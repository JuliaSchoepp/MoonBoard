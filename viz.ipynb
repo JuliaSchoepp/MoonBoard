{
 "cells": [
  {
   "cell_type": "code",
   "execution_count": null,
   "metadata": {},
   "outputs": [],
   "source": [
    "import processing as p\n",
    "import pandas as pd\n",
    "import seaborn as sns\n",
    "import matplotlib.pyplot as plt\n",
    "import numpy as np"
   ]
  },
  {
   "cell_type": "code",
   "execution_count": null,
   "metadata": {},
   "outputs": [],
   "source": [
    "paths = [\"problems_2023_01_30/problems MoonBoard 2016 .json\", \n",
    "         \"problems_2023_01_30/problems MoonBoard Masters 2017 40.json\",\n",
    "         \"problems_2023_01_30/problems MoonBoard Masters 2019 40.json\"]\n",
    "years = [2016, 2017, 2019]"
   ]
  },
  {
   "cell_type": "code",
   "execution_count": null,
   "metadata": {},
   "outputs": [],
   "source": [
    "def plot_sandbagging(df, year):\n",
    "    # vizualize the number of boulders upgraded and downgraded per setter (df.setby)\n",
    "    up_down_df = (df\n",
    "        .groupby('setby')\n",
    "        .agg({'upgraded': 'sum', 'downgraded': 'sum', 'name':'count'})\n",
    "        .sort_values('name', ascending=False)\n",
    "        .head(30)\n",
    "    )\n",
    "    up_down_df = (up_down_df\n",
    "                [(up_down_df.upgraded > 0) | (up_down_df.downgraded > 0)] \n",
    "    )\n",
    "    up_down_df.head(20)\n",
    "\n",
    "        # Seaborn settings\n",
    "    sns.set_theme(style=\"whitegrid\")\n",
    "\n",
    "    # Bubble chart\n",
    "    plt.figure(figsize=(15, 10))\n",
    "\n",
    "    # Define size range for the bubbles\n",
    "    size_range = (20, 2000)\n",
    "\n",
    "    # Plotting upgraded bubbles in blue\n",
    "    sns.scatterplot(\n",
    "        x=up_down_df.index, y=up_down_df['name'],\n",
    "        size=up_down_df['upgraded'], sizes=size_range,\n",
    "        hue=up_down_df['upgraded'], palette=\"Blues\",\n",
    "        alpha=0.8\n",
    "    )\n",
    "\n",
    "    # Plotting downgraded bubbles in red on top of upgraded\n",
    "    sns.scatterplot(\n",
    "        x=up_down_df.index, y=up_down_df['name'],\n",
    "        size=up_down_df['downgraded'], sizes=size_range,\n",
    "        hue=up_down_df['downgraded'], palette=\"Reds\",\n",
    "        alpha=0.8\n",
    "    )\n",
    "\n",
    "    plt.ylabel('Number of Routes/Problems Set')\n",
    "    plt.title(f\"The biggest sandbaggers and softies on the Moonboard - {year} set\")\n",
    "    plt.xticks(rotation=45)\n",
    "\n",
    "    plt.tight_layout(rect=[0, 0, 0.85, 1]) \n",
    "    plt.show()\n"
   ]
  },
  {
   "cell_type": "code",
   "execution_count": null,
   "metadata": {},
   "outputs": [],
   "source": [
    "for year,path in zip(years, paths):\n",
    "    df = p.get_df(path)\n",
    "    df = p.group_by_problem(df)\n",
    "    df = p.prepare_features(df, benchmark=True)\n",
    "    plot_sandbagging(df, year)"
   ]
  },
  {
   "cell_type": "code",
   "execution_count": null,
   "metadata": {},
   "outputs": [],
   "source": [
    "for year,path in zip(years, paths):\n",
    "    df = p.get_df(path)\n",
    "    df = p.group_by_problem(df)\n",
    "    df = p.prepare_features(df, benchmark=False)\n",
    "    # show the average grade per year\n",
    "    sns.barplot(x='year', y='grade', data=df, alpha=0.8, label=year)\n",
    "    # for the y label re-translate to the original grade\n",
    "    plt.yticks(np.arange(0, 8, 1), [p.GRADE_DICT_REVERSE[x] for x in np.arange(0, 8, 1)])\n",
    "    plt.title('Average grade per year and set')"
   ]
  },
  {
   "cell_type": "code",
   "execution_count": null,
   "metadata": {},
   "outputs": [],
   "source": [
    "df = p.get_df(paths[1])\n",
    "df = p.group_by_problem(df)\n",
    "df = p.prepare_features(df, benchmark=True)"
   ]
  },
  {
   "cell_type": "code",
   "execution_count": null,
   "metadata": {},
   "outputs": [],
   "source": [
    "def get_holds_heatmap(df, kpi='grade'):\n",
    "    horizontal = list(\"ABCDEFGHIJK\")\n",
    "    vertical = list(range(1, 19))\n",
    "    heatmap_df = pd.DataFrame(index=vertical, columns=horizontal)\n",
    "\n",
    "    for x in horizontal:\n",
    "        for y in vertical:\n",
    "            hold = f\"{x}{y}\"\n",
    "            # Group by hold and calculate mean if the hold exists\n",
    "            try:\n",
    "                if kpi == 'grade':\n",
    "                    mean = df.groupby(hold).agg({'grade': 'mean'}).iloc[1].grade\n",
    "                    heatmap_df.loc[y, x] = mean\n",
    "                if kpi == 'count':\n",
    "                    count = df.query(f\"{hold} == 1\").shape[0]\n",
    "                    heatmap_df.loc[y, x] = count\n",
    "            except:\n",
    "                heatmap_df.loc[y, x] = np.NaN  \n",
    "\n",
    "    # Reverse the order of the index (which represents the vertical holds)\n",
    "    heatmap_df = heatmap_df.loc[::-1]\n",
    "\n",
    "    # convert the values to numeric\n",
    "    heatmap_df = heatmap_df.apply(pd.to_numeric)\n",
    "\n",
    "    # Plot the heatmap\n",
    "    plt.figure(figsize=(12, 8))\n",
    "    ax = sns.heatmap(heatmap_df, cmap='coolwarm', cbar=True)\n",
    "    if kpi == 'grade':\n",
    "        plt.title('Average grade of boulder when hold is used')\n",
    "    if kpi == 'count':\n",
    "        plt.title('Number of routes that use this hold')\n",
    "    plt.tight_layout()\n",
    "\n",
    "    if kpi == 'grade':\n",
    "        cbar = ax.collections[0].colorbar\n",
    "        value_range = range(1, 12)\n",
    "        translated_labels = [p.GRADE_DICT_REVERSE[value] for value in value_range]\n",
    "\n",
    "        cbar.set_ticks(value_range)  # Set the tick positions\n",
    "        cbar.set_ticklabels(translated_labels)  # Set the tick labels\n",
    "\n",
    "    plt.show()\n"
   ]
  },
  {
   "cell_type": "code",
   "execution_count": null,
   "metadata": {},
   "outputs": [],
   "source": [
    "get_holds_heatmap(df, kpi='grade')"
   ]
  },
  {
   "cell_type": "code",
   "execution_count": null,
   "metadata": {},
   "outputs": [],
   "source": [
    "get_holds_heatmap(df, kpi='count')"
   ]
  },
  {
   "cell_type": "code",
   "execution_count": null,
   "metadata": {},
   "outputs": [],
   "source": []
  }
 ],
 "metadata": {
  "kernelspec": {
   "display_name": "moon",
   "language": "python",
   "name": "python3"
  },
  "language_info": {
   "codemirror_mode": {
    "name": "ipython",
    "version": 3
   },
   "file_extension": ".py",
   "mimetype": "text/x-python",
   "name": "python",
   "nbconvert_exporter": "python",
   "pygments_lexer": "ipython3",
   "version": "3.11.5"
  }
 },
 "nbformat": 4,
 "nbformat_minor": 2
}
